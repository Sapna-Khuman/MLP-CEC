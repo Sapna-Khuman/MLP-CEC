{
 "cells": [
  {
   "cell_type": "code",
   "execution_count": 1,
   "id": "3640aba7",
   "metadata": {},
   "outputs": [],
   "source": [
    "#import numpy\n",
    "import numpy as np"
   ]
  },
  {
   "cell_type": "code",
   "execution_count": 16,
   "id": "8277787b",
   "metadata": {},
   "outputs": [
    {
     "name": "stdout",
     "output_type": "stream",
     "text": [
      "[1 2 3 4 7]\n",
      "[2 3 5]\n"
     ]
    }
   ],
   "source": [
    "#create array\n",
    "a=np.array([1,2,3,4,7])\n",
    "b=np.array([2,3,5])\n",
    "print(a)\n",
    "print(b)"
   ]
  },
  {
   "cell_type": "code",
   "execution_count": 3,
   "id": "cd876dbc",
   "metadata": {},
   "outputs": [
    {
     "name": "stdout",
     "output_type": "stream",
     "text": [
      "shape of a is:(5,)\n"
     ]
    }
   ],
   "source": [
    "\n",
    "print(\"shape of a is:{}\".format(a.shape)) # Shape of array: It is used find the dimensional shape of the array"
   ]
  },
  {
   "cell_type": "code",
   "execution_count": 5,
   "id": "357ea088",
   "metadata": {},
   "outputs": [
    {
     "name": "stdout",
     "output_type": "stream",
     "text": [
      "dim of array is 1\n"
     ]
    }
   ],
   "source": [
    "print(\"dim of array is {}\".format(a.ndim)) # Dimension of array: Returns an integer that tells us how many dimensions the array have."
   ]
  },
  {
   "cell_type": "code",
   "execution_count": 6,
   "id": "bc8b2bf9",
   "metadata": {},
   "outputs": [
    {
     "name": "stdout",
     "output_type": "stream",
     "text": [
      "size of a is 5\n"
     ]
    }
   ],
   "source": [
    "print(\"size of a is {}\".format(a.size)) # Size: Return the size of the array"
   ]
  },
  {
   "cell_type": "code",
   "execution_count": 7,
   "id": "df84a77a",
   "metadata": {},
   "outputs": [
    {
     "name": "stdout",
     "output_type": "stream",
     "text": [
      "data type of a int64\n"
     ]
    }
   ],
   "source": [
    "print(f\"data type of a {a.dtype}\") # dtype: Return the datatype of the array"
   ]
  },
  {
   "cell_type": "code",
   "execution_count": 8,
   "id": "7be25982",
   "metadata": {},
   "outputs": [
    {
     "name": "stdout",
     "output_type": "stream",
     "text": [
      "itemsize 8\n"
     ]
    }
   ],
   "source": [
    "print(f\"itemsize {a.itemsize}\") # itemsize : The element size of this data-type object"
   ]
  },
  {
   "cell_type": "code",
   "execution_count": 9,
   "id": "67558372",
   "metadata": {},
   "outputs": [
    {
     "name": "stdout",
     "output_type": "stream",
     "text": [
      "data <memory at 0x7fc12087c640>\n"
     ]
    }
   ],
   "source": [
    "print(f\"data {a.data}\") #data memory location"
   ]
  },
  {
   "cell_type": "code",
   "execution_count": 13,
   "id": "364bbf05",
   "metadata": {},
   "outputs": [
    {
     "name": "stdout",
     "output_type": "stream",
     "text": [
      "[[1 2]\n",
      " [4 5]]\n",
      "[[9 8]\n",
      " [6 5]]\n"
     ]
    }
   ],
   "source": [
    "# Matrix Multiplication\n",
    "a1=np.array([[1,2],[4,5]])\n",
    "b1=np.array([[9,8],[6,5]])\n",
    "print(a1)\n",
    "print(b1)\n"
   ]
  },
  {
   "cell_type": "code",
   "execution_count": 14,
   "id": "6d8a12e7",
   "metadata": {},
   "outputs": [
    {
     "name": "stdout",
     "output_type": "stream",
     "text": [
      "[[21 18]\n",
      " [66 57]]\n"
     ]
    }
   ],
   "source": [
    "mul=np.dot(a1,b1) # dot: Return the multiplication of the matrix\n",
    "print(mul)\n"
   ]
  },
  {
   "cell_type": "code",
   "execution_count": 18,
   "id": "f6c279fc",
   "metadata": {},
   "outputs": [
    {
     "name": "stdout",
     "output_type": "stream",
     "text": [
      "17\n"
     ]
    }
   ],
   "source": [
    "print(a.sum()) # sum: sum of all elements of array"
   ]
  },
  {
   "cell_type": "code",
   "execution_count": 19,
   "id": "f2a4261d",
   "metadata": {},
   "outputs": [
    {
     "name": "stdout",
     "output_type": "stream",
     "text": [
      "[[1 2 3]\n",
      " [4 5 6]]\n",
      "[[9 8 7]\n",
      " [6 5 4]]\n"
     ]
    }
   ],
   "source": [
    "a2=np.array([[1,2,3],[4,5,6]])\n",
    "b2=np.array([[9,8,7],[6,5,4]])\n",
    "print(a2)\n",
    "print(b2)\n"
   ]
  },
  {
   "cell_type": "code",
   "execution_count": 20,
   "id": "9bd39c13",
   "metadata": {},
   "outputs": [
    {
     "name": "stdout",
     "output_type": "stream",
     "text": [
      "[[5 6]]\n"
     ]
    }
   ],
   "source": [
    "sliced_arr=a2[1:,1:] # slice of array\n",
    "print(sliced_arr)\n"
   ]
  },
  {
   "cell_type": "code",
   "execution_count": 21,
   "id": "e88a35b4",
   "metadata": {},
   "outputs": [
    {
     "name": "stdout",
     "output_type": "stream",
     "text": [
      "[[10 10]\n",
      " [10 10]]\n"
     ]
    }
   ],
   "source": [
    "addm=np.add(a1,b1)# add: will add two or more arrays\n",
    "print(addm)"
   ]
  },
  {
   "cell_type": "code",
   "execution_count": 22,
   "id": "296978d4",
   "metadata": {},
   "outputs": [
    {
     "name": "stdout",
     "output_type": "stream",
     "text": [
      "[[-8 -6]\n",
      " [-2  0]]\n"
     ]
    }
   ],
   "source": [
    "subm=np.subtract(a1,b1)# subtract : will subtract arrays\n",
    "print(subm)"
   ]
  },
  {
   "cell_type": "code",
   "execution_count": 23,
   "id": "6716a2c4",
   "metadata": {},
   "outputs": [
    {
     "name": "stdout",
     "output_type": "stream",
     "text": [
      "[ 1  2  3  4  5  6  7  8  9 10 11 12 13 14 15 16]\n"
     ]
    }
   ],
   "source": [
    "c=np.array([1,2,3,4,5,6,7,8,9,10,11,12,13,14,15,16])\n",
    "print(c)\n"
   ]
  },
  {
   "cell_type": "code",
   "execution_count": 24,
   "id": "c56a8dc5",
   "metadata": {},
   "outputs": [
    {
     "name": "stdout",
     "output_type": "stream",
     "text": [
      "[[ 1  2  3  4]\n",
      " [ 5  6  7  8]\n",
      " [ 9 10 11 12]\n",
      " [13 14 15 16]]\n"
     ]
    }
   ],
   "source": [
    "re=c.reshape(4,4)# reshape : shape the array according to our choice\n",
    "print(re)"
   ]
  },
  {
   "cell_type": "code",
   "execution_count": 25,
   "id": "ab468b2d",
   "metadata": {},
   "outputs": [
    {
     "name": "stdout",
     "output_type": "stream",
     "text": [
      "maximum in c is 16\n",
      "minimum in c is 1\n",
      "maximum in row is [ 4  8 12 16]\n",
      "minimum in row is [1 2 3 4]\n"
     ]
    }
   ],
   "source": [
    "print(\"maximum in c is\",c.max()) # max : maximum element from the array\n",
    "print(\"minimum in c is\",c.min()) # min : minimum element from the array\n",
    "print(\"maximum in row is\",re.max(axis=1))# axis=1 : maximum of array of a row\n",
    "print(\"minimum in column is\",re.min(axis=0))# axis=0 : maximum of array of a column\n"
   ]
  },
  {
   "cell_type": "code",
   "execution_count": 26,
   "id": "2ba389c0",
   "metadata": {},
   "outputs": [
    {
     "name": "stdout",
     "output_type": "stream",
     "text": [
      "[[ 4  8 25]\n",
      " [36 49 64]]\n"
     ]
    }
   ],
   "source": [
    "d=np.array([[4,8,25],[36,49,64]])\n",
    "print(d)\n"
   ]
  },
  {
   "cell_type": "code",
   "execution_count": 27,
   "id": "8220597a",
   "metadata": {},
   "outputs": [
    {
     "name": "stdout",
     "output_type": "stream",
     "text": [
      "[[2.         2.82842712 5.        ]\n",
      " [6.         7.         8.        ]]\n",
      "sd 21.33854103103896\n"
     ]
    }
   ],
   "source": [
    "print(np.sqrt(d)) # sqrt: square root of all element\n",
    "print(\"sd\",np.std(d)) # std: calculates the standard deviation of given data along a specified axis."
   ]
  },
  {
   "cell_type": "code",
   "execution_count": 41,
   "id": "27a96a39",
   "metadata": {},
   "outputs": [
    {
     "name": "stdout",
     "output_type": "stream",
     "text": [
      "[[2 3]\n",
      " [5 6]]\n",
      "[[4 8]\n",
      " [9 7]]\n",
      "[[2 3]\n",
      " [5 6]\n",
      " [4 8]\n",
      " [9 7]]\n",
      "[[2 3 4 8]\n",
      " [5 6 9 7]]\n",
      "[array([[2, 3],\n",
      "       [5, 6]]), array([[4, 8],\n",
      "       [9, 7]])]\n",
      "[array([[2],\n",
      "       [5],\n",
      "       [4],\n",
      "       [9]]), array([[3],\n",
      "       [6],\n",
      "       [8],\n",
      "       [7]])]\n"
     ]
    }
   ],
   "source": [
    "a3=np.array([[2,3],[5,6]])\n",
    "print(a3)\n",
    "b3=np.array([[4,8],[9,7]])\n",
    "print(b3)\n",
    "\n",
    "v=np.vstack((a3,b3)) #vstack: merge two array vertically\n",
    "print(v)\n",
    "h=np.hstack((a3,b3)) #hstack: merge two array horizontally\n",
    "print(h)\n",
    "vNew=np.vsplit(v,2) # split vertically merged array\n",
    "print(vNew)\n",
    "hNew=np.hsplit(v,2) # split horizontally merged array\n",
    "print(hNew)\n"
   ]
  },
  {
   "cell_type": "code",
   "execution_count": 35,
   "id": "b52790a5",
   "metadata": {},
   "outputs": [
    {
     "name": "stdout",
     "output_type": "stream",
     "text": [
      "[ 1  3  5  7  9 11 13 15 17 19]\n"
     ]
    }
   ],
   "source": [
    "arr=np.arange(1,20,2) #arange: function that print array from 1 to 20 with gap of 2\n",
    "print(arr)"
   ]
  },
  {
   "cell_type": "code",
   "execution_count": 36,
   "id": "60b69320",
   "metadata": {},
   "outputs": [
    {
     "name": "stdout",
     "output_type": "stream",
     "text": [
      "[ 0  5 10 15 20 25 30 35 40 45 50 55 60 65 70 75 80 85 90 95]\n"
     ]
    }
   ],
   "source": [
    "arr1=np.arange(0,100,5)\n",
    "print(arr1)\n"
   ]
  },
  {
   "cell_type": "code",
   "execution_count": 37,
   "id": "f939b4ca",
   "metadata": {},
   "outputs": [
    {
     "name": "stdout",
     "output_type": "stream",
     "text": [
      "[ 0.  5. 10. 15. 20.]\n",
      "float64\n"
     ]
    }
   ],
   "source": [
    "arr2=np.linspace(0,20,5) # same as arange but default in float\n",
    "print(arr2)\n",
    "print(arr2.dtype)"
   ]
  },
  {
   "cell_type": "code",
   "execution_count": 45,
   "id": "3adfce3d",
   "metadata": {},
   "outputs": [
    {
     "name": "stdout",
     "output_type": "stream",
     "text": [
      "[[25 64 34]\n",
      " [89 36 89]]\n",
      "[[25 89]\n",
      " [64 36]\n",
      " [34 89]]\n"
     ]
    }
   ],
   "source": [
    "ar=np.array([[25,64,34],[89,36,89]])\n",
    "print(ar)\n",
    "dt=ar.T # return transpose of array\n",
    "print(dt)"
   ]
  },
  {
   "cell_type": "code",
   "execution_count": 46,
   "id": "335e96f0",
   "metadata": {},
   "outputs": [
    {
     "name": "stdout",
     "output_type": "stream",
     "text": [
      "element 25\n",
      "element 64\n",
      "element 34\n",
      "element 89\n",
      "element 36\n",
      "element 89\n"
     ]
    }
   ],
   "source": [
    "for i in np.nditer(dt): # iterate all element one by one\n",
    "    print(\"element\",i)"
   ]
  },
  {
   "cell_type": "code",
   "execution_count": 47,
   "id": "d0af09fc",
   "metadata": {},
   "outputs": [
    {
     "name": "stdout",
     "output_type": "stream",
     "text": [
      "[32 43 87 90]\n"
     ]
    }
   ],
   "source": [
    "Fun=np.array([32,43,87,90])\n",
    "print(Fun)"
   ]
  },
  {
   "cell_type": "code",
   "execution_count": 59,
   "id": "d382fbdf",
   "metadata": {},
   "outputs": [
    {
     "name": "stdout",
     "output_type": "stream",
     "text": [
      "Square root :  [5.65685425 6.55743852 9.32737905 9.48683298]\n"
     ]
    }
   ],
   "source": [
    "print(\"Square root : \",np.sqrt(Fun)) # square root of element"
   ]
  },
  {
   "cell_type": "code",
   "execution_count": 61,
   "id": "eac801a3",
   "metadata": {},
   "outputs": [
    {
     "name": "stdout",
     "output_type": "stream",
     "text": [
      "Standard Deviation:  5.744562646538029\n"
     ]
    }
   ],
   "source": [
    "print(\"Standard Deviation: \",np.std(arr))     # Returns the standard deviation of in the array"
   ]
  },
  {
   "cell_type": "code",
   "execution_count": 57,
   "id": "0c0ff4ee",
   "metadata": {},
   "outputs": [
    {
     "name": "stdout",
     "output_type": "stream",
     "text": [
      "Exponentials:  [7.89629602e+13 4.72783947e+18 6.07603023e+37 1.22040329e+39]\n"
     ]
    }
   ],
   "source": [
    "print(\"Exponentials: \",np.exp(Fun))     # exponentials of element"
   ]
  },
  {
   "cell_type": "code",
   "execution_count": 53,
   "id": "627d26d0",
   "metadata": {},
   "outputs": [
    {
     "name": "stdout",
     "output_type": "stream",
     "text": [
      "Sum of all element in array:  252\n"
     ]
    }
   ],
   "source": [
    "print(\"Sum of all element in array: \",np.sum(Fun))     # sum of all elements in the array"
   ]
  },
  {
   "cell_type": "code",
   "execution_count": 54,
   "id": "fd1c0af7",
   "metadata": {},
   "outputs": [
    {
     "name": "stdout",
     "output_type": "stream",
     "text": [
      "Sin of each element:  [ 0.55142668 -0.83177474 -0.82181784  0.89399666]\n"
     ]
    }
   ],
   "source": [
    "print(\"Sin of each element: \",np.sin(Fun))     # Returns  sin of each element"
   ]
  },
  {
   "cell_type": "code",
   "execution_count": 55,
   "id": "754a46c7",
   "metadata": {},
   "outputs": [
    {
     "name": "stdout",
     "output_type": "stream",
     "text": [
      "Cos of each element:  [ 0.83422336  0.5551133   0.56975033 -0.44807362]\n"
     ]
    }
   ],
   "source": [
    "print(\"Cos of each element: \",np.cos(Fun))     # Returns the cosine of each element"
   ]
  },
  {
   "cell_type": "code",
   "execution_count": 62,
   "id": "9b7bea42",
   "metadata": {},
   "outputs": [
    {
     "name": "stdout",
     "output_type": "stream",
     "text": [
      "Log:  [3.4657359  3.76120012 4.46590812 4.49980967]\n"
     ]
    }
   ],
   "source": [
    "print(\"Log: \",np.log(Fun))     # Returns the logarithm of each element"
   ]
  },
  {
   "cell_type": "code",
   "execution_count": 64,
   "id": "58290e6c",
   "metadata": {},
   "outputs": [
    {
     "name": "stdout",
     "output_type": "stream",
     "text": [
      "Mean: 63.0\n"
     ]
    }
   ],
   "source": [
    "from scipy import stats as st\n",
    "print(\"Mean:\",np.mean(Fun)) # mean of array"
   ]
  },
  {
   "cell_type": "code",
   "execution_count": 66,
   "id": "9a5a9f50",
   "metadata": {},
   "outputs": [
    {
     "name": "stdout",
     "output_type": "stream",
     "text": [
      "Median: 65.0\n"
     ]
    }
   ],
   "source": [
    "print(\"Median:\",np.median(Fun) # median of array"
   ]
  },
  {
   "cell_type": "code",
   "execution_count": 70,
   "id": "5bf1f461",
   "metadata": {},
   "outputs": [
    {
     "name": "stdout",
     "output_type": "stream",
     "text": [
      "[90 90 32 43 87 90]\n",
      "Mode: ModeResult(mode=array([90]), count=array([3]))\n"
     ]
    }
   ],
   "source": [
    "Fun1=np.array([90,90,32,43,87,90])\n",
    "print(Fun1)\n",
    "print(\"Mode:\",st.mode(Fun1)) # mode of array"
   ]
  },
  {
   "cell_type": "code",
   "execution_count": null,
   "id": "382f502b",
   "metadata": {},
   "outputs": [],
   "source": []
  }
 ],
 "metadata": {
  "kernelspec": {
   "display_name": "Python 3 (ipykernel)",
   "language": "python",
   "name": "python3"
  },
  "language_info": {
   "codemirror_mode": {
    "name": "ipython",
    "version": 3
   },
   "file_extension": ".py",
   "mimetype": "text/x-python",
   "name": "python",
   "nbconvert_exporter": "python",
   "pygments_lexer": "ipython3",
   "version": "3.9.12"
  }
 },
 "nbformat": 4,
 "nbformat_minor": 5
}
